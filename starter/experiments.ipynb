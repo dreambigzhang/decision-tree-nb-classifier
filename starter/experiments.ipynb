{
 "cells": [
  {
   "cell_type": "markdown",
   "metadata": {},
   "source": [
    "# CMPUT 466/566: Machine Learning, Assignment 1\n",
    "This notebook allows you to run both Decision Tree and Naive Bayes.  \n",
    "Please use Python 3.10.13"
   ]
  },
  {
   "cell_type": "code",
   "execution_count": 1,
   "metadata": {},
   "outputs": [
    {
     "name": "stdout",
     "output_type": "stream",
     "text": [
      "Defaulting to user installation because normal site-packages is not writeable\n",
      "Requirement already satisfied: numpy==1.26.3 in /Users/alanzhang/Library/Python/3.10/lib/python/site-packages (1.26.3)\n",
      "Defaulting to user installation because normal site-packages is not writeable\n",
      "Requirement already satisfied: matplotlib==3.8.2 in /Users/alanzhang/Library/Python/3.10/lib/python/site-packages (3.8.2)\n",
      "Requirement already satisfied: contourpy>=1.0.1 in /Users/alanzhang/Library/Python/3.10/lib/python/site-packages (from matplotlib==3.8.2) (1.2.0)\n",
      "Requirement already satisfied: cycler>=0.10 in /Users/alanzhang/Library/Python/3.10/lib/python/site-packages (from matplotlib==3.8.2) (0.12.1)\n",
      "Requirement already satisfied: fonttools>=4.22.0 in /Users/alanzhang/Library/Python/3.10/lib/python/site-packages (from matplotlib==3.8.2) (4.47.2)\n",
      "Requirement already satisfied: kiwisolver>=1.3.1 in /Users/alanzhang/Library/Python/3.10/lib/python/site-packages (from matplotlib==3.8.2) (1.4.5)\n",
      "Requirement already satisfied: numpy<2,>=1.21 in /Users/alanzhang/Library/Python/3.10/lib/python/site-packages (from matplotlib==3.8.2) (1.26.3)\n",
      "Requirement already satisfied: packaging>=20.0 in /Users/alanzhang/Library/Python/3.10/lib/python/site-packages (from matplotlib==3.8.2) (23.2)\n",
      "Requirement already satisfied: pillow>=8 in /Users/alanzhang/Library/Python/3.10/lib/python/site-packages (from matplotlib==3.8.2) (10.2.0)\n",
      "Requirement already satisfied: pyparsing>=2.3.1 in /Users/alanzhang/Library/Python/3.10/lib/python/site-packages (from matplotlib==3.8.2) (3.1.1)\n",
      "Requirement already satisfied: python-dateutil>=2.7 in /Users/alanzhang/Library/Python/3.10/lib/python/site-packages (from matplotlib==3.8.2) (2.8.2)\n",
      "Requirement already satisfied: six>=1.5 in /Users/alanzhang/Library/Python/3.10/lib/python/site-packages (from python-dateutil>=2.7->matplotlib==3.8.2) (1.16.0)\n"
     ]
    }
   ],
   "source": [
    "!pip install numpy==1.26.3\n",
    "!pip install matplotlib==3.8.2"
   ]
  },
  {
   "cell_type": "code",
   "execution_count": 2,
   "metadata": {},
   "outputs": [],
   "source": [
    "import _pickle as pickle\n",
    "import matplotlib.pyplot as plt\n",
    "import numpy as np\n",
    "import timeit\n",
    "\n",
    "from functools import partial\n",
    "\n",
    "from decision_tree import *\n",
    "from naive_bayes import *"
   ]
  },
  {
   "cell_type": "markdown",
   "metadata": {},
   "source": [
    "# Debug"
   ]
  },
  {
   "cell_type": "markdown",
   "metadata": {},
   "source": [
    "## Decision Tree"
   ]
  },
  {
   "cell_type": "code",
   "execution_count": 9,
   "metadata": {},
   "outputs": [
    {
     "name": "stdout",
     "output_type": "stream",
     "text": [
      "Correct Pred 1-D Linear Seperable, 2 class: False\n",
      "Correct Pred 1-D Random, 2 class: False\n"
     ]
    }
   ],
   "source": [
    "def test_dt():\n",
    "    with open('./datasets/test_dt.pkl', 'rb') as f:\n",
    "        test = pickle.load(f)\n",
    "\n",
    "    seed = 0\n",
    "    num_classes = 2\n",
    "    max_depth = 10\n",
    "    min_leaf_data = 10\n",
    "    min_entropy = 1e-3\n",
    "    num_split_retries = 10\n",
    "    debug = False\n",
    "\n",
    "    # 1-D Linear Seperable\n",
    "    X_1 = test['X_1']\n",
    "    y_1 = test['y_1']\n",
    "    tree = train_dt(X_1,\n",
    "                    y_1,\n",
    "                    seed,\n",
    "                    max_depth,\n",
    "                    min_leaf_data,\n",
    "                    min_entropy,\n",
    "                    num_split_retries,\n",
    "                    num_classes,\n",
    "                    debug)\n",
    "    print('Correct Pred 1-D Linear Seperable, 2 class: {}'.format(np.allclose(predict_dt(tree, X_1), test['pred_1'])))\n",
    "\n",
    "    # 1-D Random, 2 Class\n",
    "    X_2 = test['X_2']\n",
    "    y_2 = test['y_2']\n",
    "    tree = train_dt(X_2,\n",
    "                    y_2,\n",
    "                    seed,\n",
    "                    max_depth,\n",
    "                    min_leaf_data,\n",
    "                    min_entropy,\n",
    "                    num_split_retries,\n",
    "                    num_classes,\n",
    "                    debug)\n",
    "    print('Correct Pred 1-D Random, 2 class: {}'.format(np.allclose(predict_dt(tree, X_2), test['pred_2'])))\n",
    "\n",
    "    # Optional TODO: Add your own test cases\n",
    "\n",
    "test_dt()"
   ]
  },
  {
   "cell_type": "markdown",
   "metadata": {},
   "source": [
    "## Naive Bayes"
   ]
  },
  {
   "cell_type": "code",
   "execution_count": 4,
   "metadata": {},
   "outputs": [
    {
     "name": "stdout",
     "output_type": "stream",
     "text": [
      "Correct Means: True\n",
      "Correct Covariances: True\n",
      "Correct Priors: True\n",
      "Correct Predictions: True\n",
      "Details:\n",
      "===========================================================================\n"
     ]
    }
   ],
   "source": [
    "def test_nb():\n",
    "    with open('./datasets/test_nb.pkl', 'rb') as f:\n",
    "        gt_data = pickle.load(f)\n",
    "        data = gt_data[\"nb\"]\n",
    "\n",
    "    num_features = gt_data[\"X\"].shape[1]\n",
    "    num_classes = len(np.unique(gt_data[\"y\"]))\n",
    "    params = train_nb(gt_data[\"X\"], gt_data[\"y\"], num_classes)\n",
    "\n",
    "    correct_means = np.allclose(params.means, data[\"means\"])\n",
    "    correct_covariances = np.allclose(params.covariances, data[\"covariances\"])\n",
    "    correct_priors = np.allclose(params.priors, data[\"priors\"])\n",
    "\n",
    "    correct_params = Params(data[\"means\"],\n",
    "                            data[\"covariances\"],\n",
    "                            data[\"priors\"],\n",
    "                            num_features,\n",
    "                            num_classes)\n",
    "    model_probs = predict_nb(correct_params, gt_data[\"X\"])\n",
    "    correct_predictions = np.allclose(model_probs, data[\"predictions\"])\n",
    "\n",
    "    print(f\"Correct Means: {correct_means}\")\n",
    "    print(f\"Correct Covariances: {correct_covariances}\")\n",
    "    print(f\"Correct Priors: {correct_priors}\")\n",
    "    print(f\"Correct Predictions: {correct_predictions}\")\n",
    "\n",
    "    print(\"Details:\")\n",
    "    if not correct_means:\n",
    "        print(\"Expected Mean:\")\n",
    "        print(data[\"means\"])\n",
    "        print(\"Got:\")\n",
    "        print(params.means)\n",
    "\n",
    "    if not correct_covariances:\n",
    "        print(\"Expected Covariances:\")\n",
    "        print(data[\"covariances\"])\n",
    "        print(\"Got:\")\n",
    "        print(params.covariances)\n",
    "\n",
    "    if not correct_priors:\n",
    "        print(\"Expected Priors:\")\n",
    "        print(data[\"priors\"])\n",
    "        print(\"Got:\")\n",
    "        print(params.priors)\n",
    "\n",
    "    if not correct_predictions:\n",
    "        print(\"Expected Predictions:\")\n",
    "        print(data[\"predictions\"])\n",
    "        print(\"Got:\")\n",
    "        print(model_probs)\n",
    "\n",
    "    print(\"=\" * 75)\n",
    "\n",
    "    # Optional TODO: Add your own test cases\n",
    "\n",
    "test_nb()"
   ]
  },
  {
   "cell_type": "markdown",
   "metadata": {},
   "source": [
    "# Lending Club"
   ]
  },
  {
   "cell_type": "markdown",
   "metadata": {},
   "source": [
    "### Helper Functions"
   ]
  },
  {
   "cell_type": "code",
   "execution_count": 5,
   "metadata": {},
   "outputs": [],
   "source": [
    "def get_dataset_info():\n",
    "    with open(\"./datasets/lending_club.pkl\", \"rb\") as f:\n",
    "        lc_data =  pickle.load(f)\n",
    "\n",
    "    # Train data\n",
    "    train_X = lc_data['train_X']\n",
    "    train_y = lc_data['train_y']\n",
    "    \n",
    "    # Validation data\n",
    "    validation_X = lc_data['validation_X']\n",
    "\n",
    "    num_features = train_X.shape[-1]\n",
    "    num_classes = len(np.unique(train_y))\n",
    "\n",
    "    print(\"Dataset Information =============================\")\n",
    "    print(\"Number of input features: {}, Number of classes: {}\".format(num_features, num_classes))\n",
    "    print(\"Number training points: {}\".format(len(train_X)))\n",
    "    print(\"Number validation points: {}\".format(len(validation_X)))\n",
    "    return num_features, num_classes\n",
    "\n",
    "def accuracy(y, p):\n",
    "    \"\"\" This returns the accuracy of prediction given true labels.\n",
    "\n",
    "    Args:\n",
    "    - y (ndarray (shape: (N,1))): A Nx1 matrix consisting of true labels\n",
    "    - p (ndarray (shape: (N,C))): A NxC matrix consisting N C-dimensional probabilities for each input.\n",
    "    \n",
    "    Output:\n",
    "    - acc (float): Accuracy of predictions compared to true labels\n",
    "    \"\"\"\n",
    "    assert y.shape[0] == p.shape[0], f\"Number of samples must match\"\n",
    "\n",
    "    # Pick indicies that maximize each row\n",
    "    y_pred = np.expand_dims(np.argmax(p, axis=1), axis=1)\n",
    "    acc = sum(y_pred == y) * 100 / y.shape[0]\n",
    "\n",
    "    return acc\n",
    "\n",
    "def print_result(train_accs, val_accs, test_accs):\n",
    "    mean_train = np.mean(train_accs, axis=(-1, -2))\n",
    "    std_train = np.std(train_accs, axis=(-1, -2))\n",
    "\n",
    "    mean_val = np.mean(val_accs, axis=(-1, -2))\n",
    "    std_val = np.std(val_accs, axis=(-1, -2))\n",
    "\n",
    "    print(\"Train accuracy: {}% +/- {}\".format(mean_train, std_train,))\n",
    "    print(\"Validation accuracy: {}% +/- {}\".format(mean_val, std_val,))\n",
    "\n",
    "    mean_test = None\n",
    "    std_test = None\n",
    "    if len(test_accs):\n",
    "        mean_test = np.mean(test_accs, axis=(-1, -2))\n",
    "        std_test = np.std(test_accs, axis=(-1, -2))\n",
    "        print(\"Test accuracy: {}% +/- {}\".format(mean_test, std_test))"
   ]
  },
  {
   "cell_type": "markdown",
   "metadata": {},
   "source": [
    "## Run Lending Club Experiments"
   ]
  },
  {
   "cell_type": "code",
   "execution_count": 10,
   "metadata": {},
   "outputs": [],
   "source": [
    "def run_lc(train, predict, final_hyperparameters, seed, num_runs):\n",
    "    # Load dataset\n",
    "    with open(\"./datasets/lending_club.pkl\", \"rb\") as f:\n",
    "        lc_data =  pickle.load(f)\n",
    "\n",
    "    # Train data\n",
    "    train_X = lc_data['train_X']\n",
    "    train_y = lc_data['train_y']\n",
    "    \n",
    "    # Validation data\n",
    "    validation_X = lc_data['validation_X']\n",
    "    validation_y = lc_data['validation_y']\n",
    "\n",
    "    # Test data\n",
    "    test_X, test_y = None, None\n",
    "    if final_hyperparameters:\n",
    "        test_X = lc_data['test_X']\n",
    "        test_y = lc_data['test_y']\n",
    "\n",
    "    train_accs = []\n",
    "    validation_accs = []\n",
    "    test_accs = []\n",
    "    train_times = []\n",
    "\n",
    "    rng = np.random.RandomState(seed)\n",
    "    seeds = rng.randint(0, 2 ** 32 - 1, size=(num_runs,))\n",
    "    for run_seed in seeds:\n",
    "        tic = timeit.default_timer()\n",
    "        params = train(train_X, train_y, seed=run_seed)\n",
    "        toc = timeit.default_timer()\n",
    "        train_times.append(toc - tic)\n",
    "\n",
    "        # Training Accuracy\n",
    "        train_predictions = predict(params, train_X)\n",
    "        train_accs.append(accuracy(train_y, train_predictions))\n",
    "\n",
    "        if validation_X is not None and validation_y is not None:\n",
    "            # Validation Accuracy\n",
    "            validation_predictions = predict(params, validation_X)\n",
    "            validation_accs.append(accuracy(validation_y, validation_predictions))\n",
    "\n",
    "        if test_X is not None and test_y is not None:\n",
    "            # Testing Accuracy\n",
    "            test_predictions = predict(params, test_X)\n",
    "            test_accs.append(accuracy(test_y, test_predictions))\n",
    "\n",
    "    return train_accs, validation_accs, test_accs, train_times, seeds"
   ]
  },
  {
   "cell_type": "code",
   "execution_count": 11,
   "metadata": {},
   "outputs": [
    {
     "name": "stdout",
     "output_type": "stream",
     "text": [
      "Dataset Information =============================\n",
      "Number of input features: 21, Number of classes: 2\n",
      "Number training points: 74176\n",
      "Number validation points: 18544\n"
     ]
    }
   ],
   "source": [
    "num_features, num_classes = get_dataset_info()"
   ]
  },
  {
   "cell_type": "markdown",
   "metadata": {},
   "source": [
    "## Decision Tree"
   ]
  },
  {
   "cell_type": "markdown",
   "metadata": {},
   "source": [
    "### Plot train/validation curves\n",
    "Note: This may take around 6.5 minutes to run, longer with inefficient code"
   ]
  },
  {
   "cell_type": "code",
   "execution_count": 9,
   "metadata": {},
   "outputs": [
    {
     "name": "stdout",
     "output_type": "stream",
     "text": [
      "==================================================\n",
      "max_depth = 1\n",
      "Seeds: [1608637542 3421126067 4083286876  787846414 3143890026]\n",
      "Average train accuracy: 57.86049396031061% +/- 1.2176445211389109\n",
      "Average validation accuracy: 57.895815358067296% +/- 0.918895599654877\n",
      "Total time taken: 11.3404070000106s\n",
      "Average time taken: 2.26808140000212s +/- 0.6659534246409725\n",
      "==================================================\n",
      "\n",
      "==================================================\n",
      "max_depth = 2\n",
      "Seeds: [1608637542 3421126067 4083286876  787846414 3143890026]\n",
      "Average train accuracy: 64.49309749784297% +/- 0.02534512510785589\n",
      "Average validation accuracy: 64.43593615185505% +/- 0.11863675582398513\n",
      "Total time taken: 18.25170891697053s\n",
      "Average time taken: 3.6503417833941056s +/- 0.6455756314322417\n",
      "==================================================\n",
      "\n",
      "==================================================\n",
      "max_depth = 4\n",
      "Seeds: [1608637542 3421126067 4083286876  787846414 3143890026]\n",
      "Average train accuracy: 72.96376186367559% +/- 1.9617462336295202\n",
      "Average validation accuracy: 72.89473684210527% +/- 1.877722617651809\n",
      "Total time taken: 33.12993941697641s\n",
      "Average time taken: 6.6259878833952826s +/- 1.0675665617699057\n",
      "==================================================\n",
      "\n",
      "==================================================\n",
      "max_depth = 8\n",
      "Seeds: [1608637542 3421126067 4083286876  787846414 3143890026]\n",
      "Average train accuracy: 77.94974115616911% +/- 0.1352317744065525\n",
      "Average validation accuracy: 77.55716134598792% +/- 0.24426422276449472\n",
      "Total time taken: 59.125395915994886s\n",
      "Average time taken: 11.825079183198977s +/- 1.2744292310734229\n",
      "==================================================\n",
      "\n",
      "==================================================\n",
      "max_depth = 16\n",
      "Seeds: [1608637542 3421126067 4083286876  787846414 3143890026]\n",
      "Average train accuracy: 82.29696937014667% +/- 0.17460345699705668\n",
      "Average validation accuracy: 76.17558239861951% +/- 0.3472419443080528\n",
      "Total time taken: 202.5624150839867s\n",
      "Average time taken: 40.51248301679734s +/- 1.2752043983069208\n",
      "==================================================\n",
      "\n",
      "==================================================\n",
      "max_depth = 20\n",
      "Seeds: [1608637542 3421126067 4083286876  787846414 3143890026]\n",
      "Average train accuracy: 86.33978645383952% +/- 0.2098115525163386\n",
      "Average validation accuracy: 74.61820534943918% +/- 0.29735371607130556\n",
      "Total time taken: 328.65987874995335s\n",
      "Average time taken: 65.73197574999067s +/- 1.2816317659744596\n",
      "==================================================\n",
      "\n"
     ]
    }
   ],
   "source": [
    "max_depths = [1, 2, 4, 8, 16, 20]\n",
    "\n",
    "seed = 42\n",
    "num_runs = 5\n",
    "train_accs = []\n",
    "val_accs = []\n",
    "times_taken = []\n",
    "for max_depth in max_depths:\n",
    "    print(\"=\" * 50)\n",
    "    print(\"max_depth = {}\".format(max_depth))\n",
    "    curr_train_accs, curr_val_accs, _, curr_times_taken, seeds = run_lc(\n",
    "        train=partial(train_dt,\n",
    "                      max_depth=max_depth,\n",
    "                      min_leaf_data=1,\n",
    "                      min_entropy=0.0,\n",
    "                      num_split_retries=num_features,\n",
    "                      debug=False,\n",
    "                      num_classes=num_classes,),\n",
    "        predict=predict_dt,\n",
    "        final_hyperparameters=False,\n",
    "        seed=seed,\n",
    "        num_runs=num_runs,\n",
    "    )\n",
    "    times_taken.append(curr_times_taken)\n",
    "    train_accs.append(curr_train_accs)\n",
    "    val_accs.append(curr_val_accs)\n",
    "    print(\"Seeds: {}\".format(seeds))\n",
    "    print(\"Average train accuracy: {}% +/- {}\".format(np.mean(curr_train_accs), np.std(curr_train_accs)))\n",
    "    print(\"Average validation accuracy: {}% +/- {}\".format(np.mean(curr_val_accs), np.std(curr_val_accs)))\n",
    "    print(\"Total time taken: {}s\".format(np.sum(curr_times_taken)))\n",
    "    print(\"Average time taken: {}s +/- {}\".format(np.mean(curr_times_taken), np.std(curr_times_taken)))\n",
    "    print(\"=\" * 50)\n",
    "    print(\"\")"
   ]
  },
  {
   "cell_type": "code",
   "execution_count": 10,
   "metadata": {},
   "outputs": [
    {
     "data": {
      "text/plain": [
       "<matplotlib.legend.Legend at 0x105203730>"
      ]
     },
     "execution_count": 10,
     "metadata": {},
     "output_type": "execute_result"
    },
    {
     "data": {
      "image/png": "[encoded data removed]",
      "text/plain": [
       "<Figure size 640x480 with 1 Axes>"
      ]
     },
     "metadata": {},
     "output_type": "display_data"
    }
   ],
   "source": [
    "mean_train = np.mean(train_accs, axis=(-1, -2))\n",
    "std_train = np.std(train_accs, axis=(-1, -2))\n",
    "\n",
    "mean_val = np.mean(val_accs, axis=(-1, -2))\n",
    "std_val = np.std(val_accs, axis=(-1, -2))\n",
    "\n",
    "plt.plot(max_depths, mean_train, label=\"Train\")\n",
    "plt.fill_between(max_depths, mean_train - std_train, mean_train + std_train, alpha=0.3)\n",
    "\n",
    "plt.plot(max_depths, mean_val, label=\"Validation\")\n",
    "plt.fill_between(max_depths, mean_val - std_val, mean_val + std_val, alpha=0.3)\n",
    "\n",
    "plt.title(\"Decision Tree Accuracy\")\n",
    "plt.xlabel(\"Maximum Depth\")\n",
    "plt.ylabel(\"Accuracy (%)\")\n",
    "plt.legend()"
   ]
  },
  {
   "cell_type": "markdown",
   "metadata": {},
   "source": [
    "Based on the above curve, for which value of `maximum_depth` will you choose? Why?  \n",
    "Enter solution in the block below:\n",
    "```\n",
    "TODO: Answer\n",
    "```\n",
    "\n",
    "Given the above observation, can you find the best hyperparameters that will achieve the best performance?"
   ]
  },
  {
   "cell_type": "code",
   "execution_count": 12,
   "metadata": {},
   "outputs": [
    {
     "ename": "NameError",
     "evalue": "name 'seed' is not defined",
     "output_type": "error",
     "traceback": [
      "\u001b[0;31m---------------------------------------------------------------------------\u001b[0m",
      "\u001b[0;31mNameError\u001b[0m                                 Traceback (most recent call last)",
      "Cell \u001b[0;32mIn[12], line 17\u001b[0m\n\u001b[1;32m      3\u001b[0m hyperparameters \u001b[38;5;241m=\u001b[39m {\n\u001b[1;32m      4\u001b[0m     \u001b[38;5;124m\"\u001b[39m\u001b[38;5;124mmax_depth\u001b[39m\u001b[38;5;124m\"\u001b[39m: \u001b[38;5;241m1\u001b[39m,\n\u001b[1;32m      5\u001b[0m     \u001b[38;5;124m\"\u001b[39m\u001b[38;5;124mmin_leaf_data\u001b[39m\u001b[38;5;124m\"\u001b[39m: \u001b[38;5;241m1\u001b[39m,\n\u001b[0;32m   (...)\u001b[0m\n\u001b[1;32m      9\u001b[0m     \u001b[38;5;124m\"\u001b[39m\u001b[38;5;124mnum_classes\u001b[39m\u001b[38;5;124m\"\u001b[39m: num_classes\n\u001b[1;32m     10\u001b[0m }\n\u001b[1;32m     12\u001b[0m \u001b[38;5;66;03m# TODO: Set final_hyperparameters to True when best hyperparameters is found\u001b[39;00m\n\u001b[1;32m     13\u001b[0m train_accs, val_accs, test_accs, _, _ \u001b[38;5;241m=\u001b[39m run_lc(train\u001b[38;5;241m=\u001b[39mpartial(train_dt,\n\u001b[1;32m     14\u001b[0m                                                              \u001b[38;5;241m*\u001b[39m\u001b[38;5;241m*\u001b[39mhyperparameters),\n\u001b[1;32m     15\u001b[0m                                                predict\u001b[38;5;241m=\u001b[39mpredict_dt,\n\u001b[1;32m     16\u001b[0m                                                final_hyperparameters\u001b[38;5;241m=\u001b[39m\u001b[38;5;28;01mFalse\u001b[39;00m,\n\u001b[0;32m---> 17\u001b[0m                                                seed\u001b[38;5;241m=\u001b[39m\u001b[43mseed\u001b[49m,\n\u001b[1;32m     18\u001b[0m                                                num_runs\u001b[38;5;241m=\u001b[39mnum_runs)\n\u001b[1;32m     20\u001b[0m print_result(train_accs, val_accs, test_accs)\n",
      "\u001b[0;31mNameError\u001b[0m: name 'seed' is not defined"
     ]
    }
   ],
   "source": [
    "# TODO: validation set to tune hyperparameters for the Occupancy dataset\n",
    "# For efficiency, consider max_depth <= 10.\n",
    "hyperparameters = {\n",
    "    \"max_depth\": 1,\n",
    "    \"min_leaf_data\": 1,\n",
    "    \"min_entropy\": 0.0,\n",
    "    \"num_split_retries\": num_features,\n",
    "    \"debug\": False,\n",
    "    \"num_classes\": num_classes\n",
    "}\n",
    "\n",
    "# TODO: Set final_hyperparameters to True when best hyperparameters is found\n",
    "train_accs, val_accs, test_accs, _, _ = run_lc(train=partial(train_dt,\n",
    "                                                             **hyperparameters),\n",
    "                                               predict=predict_dt,\n",
    "                                               final_hyperparameters=False,\n",
    "                                               seed=seed,\n",
    "                                               num_runs=num_runs)\n",
    "\n",
    "print_result(train_accs, val_accs, test_accs)"
   ]
  },
  {
   "cell_type": "markdown",
   "metadata": {},
   "source": [
    "## Naive Bayes"
   ]
  },
  {
   "cell_type": "code",
   "execution_count": 13,
   "metadata": {},
   "outputs": [
    {
     "ename": "NameError",
     "evalue": "name 'seed' is not defined",
     "output_type": "error",
     "traceback": [
      "\u001b[0;31m---------------------------------------------------------------------------\u001b[0m",
      "\u001b[0;31mNameError\u001b[0m                                 Traceback (most recent call last)",
      "Cell \u001b[0;32mIn[13], line 5\u001b[0m\n\u001b[1;32m      1\u001b[0m train_acc, val_acc, test_acc, _, _ \u001b[38;5;241m=\u001b[39m run_lc(train\u001b[38;5;241m=\u001b[39mpartial(train_nb,\n\u001b[1;32m      2\u001b[0m                                                           num_classes\u001b[38;5;241m=\u001b[39mnum_classes),\n\u001b[1;32m      3\u001b[0m                                             predict\u001b[38;5;241m=\u001b[39mpredict_nb,\n\u001b[1;32m      4\u001b[0m                                             final_hyperparameters\u001b[38;5;241m=\u001b[39m\u001b[38;5;28;01mTrue\u001b[39;00m,\n\u001b[0;32m----> 5\u001b[0m                                             seed\u001b[38;5;241m=\u001b[39m\u001b[43mseed\u001b[49m,\n\u001b[1;32m      6\u001b[0m                                             num_runs\u001b[38;5;241m=\u001b[39m\u001b[38;5;241m1\u001b[39m)\n\u001b[1;32m      7\u001b[0m \u001b[38;5;28mprint\u001b[39m(\u001b[38;5;124m\"\u001b[39m\u001b[38;5;124mTrain accuracy: \u001b[39m\u001b[38;5;132;01m{}\u001b[39;00m\u001b[38;5;124m%\u001b[39m\u001b[38;5;124m, Validation accuracy: \u001b[39m\u001b[38;5;132;01m{}\u001b[39;00m\u001b[38;5;124m%\u001b[39m\u001b[38;5;124m, Test accuracy: \u001b[39m\u001b[38;5;132;01m{}\u001b[39;00m\u001b[38;5;124m%\u001b[39m\u001b[38;5;124m\"\u001b[39m\u001b[38;5;241m.\u001b[39mformat(train_acc, val_acc, test_acc))\n",
      "\u001b[0;31mNameError\u001b[0m: name 'seed' is not defined"
     ]
    }
   ],
   "source": [
    "train_acc, val_acc, test_acc, _, _ = run_lc(train=partial(train_nb,\n",
    "                                                          num_classes=num_classes),\n",
    "                                            predict=predict_nb,\n",
    "                                            final_hyperparameters=True,\n",
    "                                            seed=seed,\n",
    "                                            num_runs=1)\n",
    "print(\"Train accuracy: {}%, Validation accuracy: {}%, Test accuracy: {}%\".format(train_acc, val_acc, test_acc))"
   ]
  },
  {
   "cell_type": "markdown",
   "metadata": {},
   "source": [
    "Which model will you choose? Why?  \n",
    "Enter solution in the block below:\n",
    "```\n",
    "TODO: Answer\n",
    "```"
   ]
  },
  {
   "cell_type": "markdown",
   "metadata": {},
   "source": [
    "### Credit\n",
    "CMPUT 466/566 - Machine Learning, Winter 2024, Assignment 1  \n",
    "B. Chan"
   ]
  }
 ],
 "metadata": {
  "kernelspec": {
   "display_name": ".venv",
   "language": "python",
   "name": "python3"
  },
  "language_info": {
   "codemirror_mode": {
    "name": "ipython",
    "version": 3
   },
   "file_extension": ".py",
   "mimetype": "text/x-python",
   "name": "python",
   "nbconvert_exporter": "python",
   "pygments_lexer": "ipython3",
   "version": "3.10.4"
  }
 },
 "nbformat": 4,
 "nbformat_minor": 2
}
